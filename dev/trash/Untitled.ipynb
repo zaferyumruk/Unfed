{
 "cells": [
  {
   "cell_type": "code",
   "execution_count": 1,
   "metadata": {},
   "outputs": [
    {
     "name": "stdout",
     "output_type": "stream",
     "text": [
      "pygame 1.9.4\n",
      "Hello from the pygame community. https://www.pygame.org/contribute.html\n"
     ]
    }
   ],
   "source": [
    "from sampleRun import sampleHunt\n",
    "from entities import State,Task, Foodtype\n",
    "\n"
   ]
  },
  {
   "cell_type": "code",
   "execution_count": 2,
   "metadata": {},
   "outputs": [],
   "source": [
    "def appleLover(self):\n",
    "    closestfood = self.closestfood(Foodtype.apple)\n",
    "    if closestfood is not None:\n",
    "        self.assignTask(Task.collect, closestfood)\n",
    "    else:\n",
    "        self.assignTask(Task.wander)\n",
    "\n",
    "\n",
    "def runfromhatefuleyes(self):\n",
    "    gatherers = self.visiblegatherers()\n",
    "    for gatherer in gatherers:\n",
    "        if self.getfacing(gatherer) < 10 :\n",
    "            self.assignTask(Task.escape, gatherer)\n",
    "            return\n",
    "    self.assignTask(Task.wander, gatherer)\n",
    "\n",
    "        \n",
    "hunt = sampleHunt(gatherercount=10)\n",
    "\n",
    "hunt.addGatherer('zaf')\n",
    "hunt.assign2Gatherer('zaf',runfromhatefuleyes)\n",
    "\n",
    "hunt.begin()"
   ]
  },
  {
   "cell_type": "code",
   "execution_count": null,
   "metadata": {},
   "outputs": [],
   "source": []
  }
 ],
 "metadata": {
  "kernelspec": {
   "display_name": "Python 3",
   "language": "python",
   "name": "python3"
  },
  "language_info": {
   "codemirror_mode": {
    "name": "ipython",
    "version": 3
   },
   "file_extension": ".py",
   "mimetype": "text/x-python",
   "name": "python",
   "nbconvert_exporter": "python",
   "pygments_lexer": "ipython3",
   "version": "3.6.5"
  }
 },
 "nbformat": 4,
 "nbformat_minor": 2
}
